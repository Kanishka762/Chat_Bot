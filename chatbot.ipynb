{
 "cells": [
  {
   "cell_type": "code",
   "execution_count": null,
   "id": "9b351913",
   "metadata": {},
   "outputs": [
    {
     "name": "stdout",
     "output_type": "stream",
     "text": [
      "Hey! How can I help you today?\n"
     ]
    }
   ],
   "source": [
    "import random\n",
    "\n",
    "# Define a list of possible responses\n",
    "responses = {\n",
    "    \"greeting\": [\"Hello!\", \"Hi there!\", \"Hey! How can I help you today?\"],\n",
    "    \"goodbye\": [\"Goodbye!\", \"See you later!\", \"Bye for now!\"],\n",
    "    \"thanks\": [\"You're welcome!\", \"No problem!\", \"Glad to help!\"],\n",
    "    \"unknown\": [\"I'm sorry, I didn't understand that. Can you please try again?\", \n",
    "                \"I'm not sure what you mean. Could you rephrase that?\", \n",
    "                \"Hmm, I'm having trouble understanding. Can you provide more information?\"]\n",
    "    \"more_operations\": []\n",
    "}\n",
    "\n",
    "# Define the main function of the chatbot\n",
    "def chatbot():\n",
    "    print(random.choice(responses[\"greeting\"]))\n",
    "\n",
    "    # Start the conversation loop\n",
    "    while True:\n",
    "        user_input = input().lower()\n",
    "\n",
    "        # Check for known keywords in the user input\n",
    "        if \"hello\" in user_input or \"hi\" in user_input or \"hey\" in user_input:\n",
    "            print(random.choice(responses[\"greeting\"]))\n",
    "\n",
    "        elif \"goodbye\" in user_input or \"bye\" in user_input:\n",
    "            print(random.choice(responses[\"goodbye\"]))\n",
    "            break\n",
    "\n",
    "        elif \"thank\" in user_input:\n",
    "            print(random.choice(responses[\"thanks\"]))\n",
    "def calculate():\n",
    "    try:\n",
    "        num1 = float(input(\"Enter first operand: \"))\n",
    "        num2 = float(input(\"Enter second operand: \"))\n",
    "        operation = input(\"Enter the operation you want to perform (+, -, *, /): \")\n",
    "        \n",
    "        if operation == \"+\":\n",
    "            result = num1 + num2\n",
    "            print(\"The sum is:\", result)\n",
    "        elif operation == \"-\":\n",
    "            result = num1 - num2\n",
    "            print(\"The difference is:\", result)\n",
    "        elif operation == \"*\":\n",
    "            result = num1 * num2\n",
    "            print(\"The product is:\", result)\n",
    "        elif operation == \"/\":\n",
    "            result = num1 / num2\n",
    "            print(\"The quotient is:\", result)\n",
    "        else:\n",
    "            print(\"Invalid operation selected. Please try again.\")\n",
    "            calculate()\n",
    "    except ValueError:\n",
    "        print(\"Invalid input. Please enter a valid number.\")\n",
    "        calculate()\n",
    "\n",
    "chatbot() \n",
    "while True:\n",
    "    goodbye = input(\"Shall we proceed to more operations? (proceed/no): \")\n",
    "    if goodbye.lower() == \"proceed\":\n",
    "        calculate()\n",
    "    else:\n",
    "        print(\"Thank you for using the Basic Math Operations Bot!\")\n",
    "        break\n",
    "        \n",
    "calculate()\n",
    "\n",
    "while True:\n",
    "    more_operations = input(\"Do you want to perform more operations? (yes/no): \")\n",
    "    if more_operations.lower() == \"yes\":\n",
    "        calculate()\n",
    "    else:\n",
    "        print(\"Thank you for using the Basic Math Operations Bot!\")\n",
    "        break\n",
    "\n"
   ]
  },
  {
   "cell_type": "code",
   "execution_count": null,
   "id": "7d524785",
   "metadata": {},
   "outputs": [],
   "source": []
  }
 ],
 "metadata": {
  "kernelspec": {
   "display_name": "Python 3 (ipykernel)",
   "language": "python",
   "name": "python3"
  },
  "language_info": {
   "codemirror_mode": {
    "name": "ipython",
    "version": 3
   },
   "file_extension": ".py",
   "mimetype": "text/x-python",
   "name": "python",
   "nbconvert_exporter": "python",
   "pygments_lexer": "ipython3",
   "version": "3.9.2"
  }
 },
 "nbformat": 4,
 "nbformat_minor": 5
}
